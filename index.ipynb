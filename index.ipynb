{
 "cells": [
  {
   "cell_type": "markdown",
   "metadata": {},
   "source": [
    "# Keras - Lab\n",
    "\n",
    "## Introduction\n",
    "\n",
    "In this lab you'll once again build a neural network, but this time you will be using Keras to do a lot of the heavy lifting.\n",
    "\n",
    "\n",
    "## Objectives\n",
    "\n",
    "You will be able to:\n",
    "\n",
    "- Build a neural network using Keras \n",
    "- Evaluate performance of a neural network using Keras "
   ]
  },
  {
   "cell_type": "markdown",
   "metadata": {},
   "source": [
    "## Required Packages\n",
    "\n",
    "We'll start by importing all of the required packages and classes."
   ]
  },
  {
   "cell_type": "code",
   "execution_count": 1,
   "metadata": {},
   "outputs": [],
   "source": [
    "import matplotlib.pyplot as plt\n",
    "import pandas as pd\n",
    "import numpy as np\n",
    "import random\n",
    "from sklearn.model_selection import train_test_split\n",
    "from keras.utils.np_utils import to_categorical\n",
    "from sklearn import preprocessing\n",
    "from keras.preprocessing.text import Tokenizer\n",
    "from keras import models\n",
    "from keras import layers\n",
    "from keras import optimizers"
   ]
  },
  {
   "cell_type": "markdown",
   "metadata": {},
   "source": [
    "## Load the data\n",
    "\n",
    "In this lab you will be classifying bank complaints available in the `'Bank_complaints.csv'` file. "
   ]
  },
  {
   "cell_type": "code",
   "execution_count": 2,
   "metadata": {},
   "outputs": [
    {
     "name": "stdout",
     "output_type": "stream",
     "text": [
      "<class 'pandas.core.frame.DataFrame'>\n",
      "RangeIndex: 60000 entries, 0 to 59999\n",
      "Data columns (total 2 columns):\n",
      " #   Column                        Non-Null Count  Dtype \n",
      "---  ------                        --------------  ----- \n",
      " 0   Product                       60000 non-null  object\n",
      " 1   Consumer complaint narrative  60000 non-null  object\n",
      "dtypes: object(2)\n",
      "memory usage: 937.6+ KB\n",
      "None\n"
     ]
    },
    {
     "data": {
      "text/html": [
       "<div>\n",
       "<style scoped>\n",
       "    .dataframe tbody tr th:only-of-type {\n",
       "        vertical-align: middle;\n",
       "    }\n",
       "\n",
       "    .dataframe tbody tr th {\n",
       "        vertical-align: top;\n",
       "    }\n",
       "\n",
       "    .dataframe thead th {\n",
       "        text-align: right;\n",
       "    }\n",
       "</style>\n",
       "<table border=\"1\" class=\"dataframe\">\n",
       "  <thead>\n",
       "    <tr style=\"text-align: right;\">\n",
       "      <th></th>\n",
       "      <th>Product</th>\n",
       "      <th>Consumer complaint narrative</th>\n",
       "    </tr>\n",
       "  </thead>\n",
       "  <tbody>\n",
       "    <tr>\n",
       "      <th>0</th>\n",
       "      <td>Student loan</td>\n",
       "      <td>In XX/XX/XXXX I filled out the Fedlaon applica...</td>\n",
       "    </tr>\n",
       "    <tr>\n",
       "      <th>1</th>\n",
       "      <td>Student loan</td>\n",
       "      <td>I am being contacted by a debt collector for p...</td>\n",
       "    </tr>\n",
       "    <tr>\n",
       "      <th>2</th>\n",
       "      <td>Student loan</td>\n",
       "      <td>I cosigned XXXX student loans at SallieMae for...</td>\n",
       "    </tr>\n",
       "    <tr>\n",
       "      <th>3</th>\n",
       "      <td>Student loan</td>\n",
       "      <td>Navient has sytematically and illegally failed...</td>\n",
       "    </tr>\n",
       "    <tr>\n",
       "      <th>4</th>\n",
       "      <td>Student loan</td>\n",
       "      <td>My wife became eligible for XXXX Loan Forgiven...</td>\n",
       "    </tr>\n",
       "  </tbody>\n",
       "</table>\n",
       "</div>"
      ],
      "text/plain": [
       "        Product                       Consumer complaint narrative\n",
       "0  Student loan  In XX/XX/XXXX I filled out the Fedlaon applica...\n",
       "1  Student loan  I am being contacted by a debt collector for p...\n",
       "2  Student loan  I cosigned XXXX student loans at SallieMae for...\n",
       "3  Student loan  Navient has sytematically and illegally failed...\n",
       "4  Student loan  My wife became eligible for XXXX Loan Forgiven..."
      ]
     },
     "execution_count": 2,
     "metadata": {},
     "output_type": "execute_result"
    }
   ],
   "source": [
    "# Import data\n",
    "df = pd.read_csv('Bank_complaints.csv')\n",
    "\n",
    "# Inspect data\n",
    "print(df.info())\n",
    "df.head()"
   ]
  },
  {
   "cell_type": "markdown",
   "metadata": {},
   "source": [
    "As mentioned earlier, your task is to categorize banking complaints into various predefined categories. Preview what these categories are and what percent of the complaints each accounts for. "
   ]
  },
  {
   "cell_type": "code",
   "execution_count": 7,
   "metadata": {},
   "outputs": [
    {
     "name": "stdout",
     "output_type": "stream",
     "text": [
      "Student loan                   11404\n",
      "Credit card                     9540\n",
      "Consumer Loan                   9474\n",
      "Mortgage                        8332\n",
      "Bank account or service         8309\n",
      "Credit reporting                6864\n",
      "Checking or savings account     6077\n",
      "Name: Product, dtype: int64\n",
      "\n",
      " Student loan                   0.190067\n",
      "Credit card                    0.159000\n",
      "Consumer Loan                  0.157900\n",
      "Mortgage                       0.138867\n",
      "Bank account or service        0.138483\n",
      "Credit reporting               0.114400\n",
      "Checking or savings account    0.101283\n",
      "Name: Product, dtype: float64\n"
     ]
    }
   ],
   "source": [
    "# Your code here\n",
    "print(df['Product'].value_counts())\n",
    "print('\\n', df['Product'].value_counts(normalize=True))"
   ]
  },
  {
   "cell_type": "markdown",
   "metadata": {},
   "source": [
    "## Preprocessing\n",
    "\n",
    "Before we build our neural network, we need to do several preprocessing steps. First, we will create word vector counts (a bag of words type representation) of our complaints text. Next, we will change the category labels to integers. Finally, we will perform our usual train-test split before building and training our neural network using Keras. With that, let's start munging our data! \n",
    "\n",
    "## One-hot encoding of the complaints\n",
    "\n",
    "Our first step again is to transform our textual data into a numerical representation. As we saw in some of our previous lessons on NLP, there are many ways to do this. Here, we'll use the `Tokenizer()` class from the `preprocessing.text` sub-module of the Keras package.   \n",
    "\n",
    "As with our previous work using NLTK, this will transform our text complaints into word vectors. (Note that the method of creating a vector is different from our previous work with NLTK; as you'll see, word order will be preserved as opposed to a bag of words representation). In the below code, we'll only keep the 2,000 most common words and use one-hot encoding. \n",
    "\n"
   ]
  },
  {
   "cell_type": "code",
   "execution_count": 8,
   "metadata": {},
   "outputs": [
    {
     "name": "stdout",
     "output_type": "stream",
     "text": [
      "\u001b[1;31mInit signature:\u001b[0m\n",
      "\u001b[0mTokenizer\u001b[0m\u001b[1;33m(\u001b[0m\u001b[1;33m\n",
      "\u001b[0m    \u001b[0mnum_words\u001b[0m\u001b[1;33m=\u001b[0m\u001b[1;32mNone\u001b[0m\u001b[1;33m,\u001b[0m\u001b[1;33m\n",
      "\u001b[0m    \u001b[0mfilters\u001b[0m\u001b[1;33m=\u001b[0m\u001b[1;34m'!\"#$%&()*+,-./:;<=>?@[\\\\]^_`{|}~\\t\\n'\u001b[0m\u001b[1;33m,\u001b[0m\u001b[1;33m\n",
      "\u001b[0m    \u001b[0mlower\u001b[0m\u001b[1;33m=\u001b[0m\u001b[1;32mTrue\u001b[0m\u001b[1;33m,\u001b[0m\u001b[1;33m\n",
      "\u001b[0m    \u001b[0msplit\u001b[0m\u001b[1;33m=\u001b[0m\u001b[1;34m' '\u001b[0m\u001b[1;33m,\u001b[0m\u001b[1;33m\n",
      "\u001b[0m    \u001b[0mchar_level\u001b[0m\u001b[1;33m=\u001b[0m\u001b[1;32mFalse\u001b[0m\u001b[1;33m,\u001b[0m\u001b[1;33m\n",
      "\u001b[0m    \u001b[0moov_token\u001b[0m\u001b[1;33m=\u001b[0m\u001b[1;32mNone\u001b[0m\u001b[1;33m,\u001b[0m\u001b[1;33m\n",
      "\u001b[0m    \u001b[0mdocument_count\u001b[0m\u001b[1;33m=\u001b[0m\u001b[1;36m0\u001b[0m\u001b[1;33m,\u001b[0m\u001b[1;33m\n",
      "\u001b[0m    \u001b[1;33m**\u001b[0m\u001b[0mkwargs\u001b[0m\u001b[1;33m,\u001b[0m\u001b[1;33m\n",
      "\u001b[0m\u001b[1;33m)\u001b[0m\u001b[1;33m\u001b[0m\u001b[1;33m\u001b[0m\u001b[0m\n",
      "\u001b[1;31mDocstring:\u001b[0m     \n",
      "Text tokenization utility class.\n",
      "\n",
      "This class allows to vectorize a text corpus, by turning each\n",
      "text into either a sequence of integers (each integer being the index\n",
      "of a token in a dictionary) or into a vector where the coefficient\n",
      "for each token could be binary, based on word count, based on tf-idf...\n",
      "\n",
      "# Arguments\n",
      "    num_words: the maximum number of words to keep, based\n",
      "        on word frequency. Only the most common `num_words-1` words will\n",
      "        be kept.\n",
      "    filters: a string where each element is a character that will be\n",
      "        filtered from the texts. The default is all punctuation, plus\n",
      "        tabs and line breaks, minus the `'` character.\n",
      "    lower: boolean. Whether to convert the texts to lowercase.\n",
      "    split: str. Separator for word splitting.\n",
      "    char_level: if True, every character will be treated as a token.\n",
      "    oov_token: if given, it will be added to word_index and used to\n",
      "        replace out-of-vocabulary words during text_to_sequence calls\n",
      "\n",
      "By default, all punctuation is removed, turning the texts into\n",
      "space-separated sequences of words\n",
      "(words maybe include the `'` character). These sequences are then\n",
      "split into lists of tokens. They will then be indexed or vectorized.\n",
      "\n",
      "`0` is a reserved index that won't be assigned to any word.\n",
      "\u001b[1;31mFile:\u001b[0m           c:\\users\\davey\\anaconda3\\envs\\learn-env\\lib\\site-packages\\keras_preprocessing\\text.py\n",
      "\u001b[1;31mType:\u001b[0m           type\n",
      "\u001b[1;31mSubclasses:\u001b[0m     \n"
     ]
    }
   ],
   "source": [
    "# As a quick preliminary, briefly review the docstring for keras.preprocessing.text.Tokenizer\n",
    "Tokenizer?"
   ]
  },
  {
   "cell_type": "code",
   "execution_count": 9,
   "metadata": {},
   "outputs": [
    {
     "name": "stdout",
     "output_type": "stream",
     "text": [
      "sequences type: <class 'list'>\n",
      "one_hot_results type: <class 'numpy.ndarray'>\n",
      "Found 50334 unique tokens.\n",
      "Dimensions of our coded results: (60000, 2000)\n"
     ]
    }
   ],
   "source": [
    "# ⏰ This cell may take about thirty seconds to run\n",
    "\n",
    "# Raw text complaints\n",
    "complaints = df['Consumer complaint narrative'] \n",
    "\n",
    "# Initialize a tokenizer \n",
    "tokenizer = Tokenizer(num_words=2000) \n",
    "\n",
    "# Fit it to the complaints\n",
    "tokenizer.fit_on_texts(complaints) \n",
    "\n",
    "# Generate sequences\n",
    "sequences = tokenizer.texts_to_sequences(complaints) \n",
    "print('sequences type:', type(sequences))\n",
    "\n",
    "# Similar to sequences, but returns a numpy array\n",
    "one_hot_results= tokenizer.texts_to_matrix(complaints, mode='binary') \n",
    "print('one_hot_results type:', type(one_hot_results))\n",
    "\n",
    "# Useful if we wish to decode (more explanation below)\n",
    "word_index = tokenizer.word_index \n",
    "\n",
    "# Tokens are the number of unique words across the corpus\n",
    "print('Found %s unique tokens.' % len(word_index)) \n",
    "\n",
    "# Our coded data\n",
    "print('Dimensions of our coded results:', np.shape(one_hot_results)) "
   ]
  },
  {
   "cell_type": "markdown",
   "metadata": {},
   "source": [
    "## Decoding Word Vectors \n",
    "\n",
    "As a note, you can also decode these vectorized representations of the reviews. The `word_index` variable, defined above, stores the mapping from the label number to the actual word. Somewhat tediously, we can turn this dictionary inside out and map it back to our word vectors, giving us roughly the original complaint back. (As you'll see, the text won't be identical as we limited ourselves to top 2000 words.)\n",
    "\n",
    "## Python Review / Mini Challenge\n",
    "\n",
    "While a bit tangential to our main topic of interest, we need to reverse our current dictionary `word_index` which maps words from our corpus to integers. In decoding our `one_hot_results`, we will need to create a dictionary of these integers to the original words. Below, take the `word_index` dictionary object and change the orientation so that the values are keys and the keys values. In other words, you are transforming something of the form {A:1, B:2, C:3} to {1:A, 2:B, 3:C}. "
   ]
  },
  {
   "cell_type": "code",
   "execution_count": 10,
   "metadata": {},
   "outputs": [],
   "source": [
    "# Your code here\n",
    "reverse_index = dict([(value, key) for (key, value) in word_index.items()])"
   ]
  },
  {
   "cell_type": "markdown",
   "metadata": {},
   "source": [
    "## Back to Decoding Our Word Vectors..."
   ]
  },
  {
   "cell_type": "code",
   "execution_count": 11,
   "metadata": {},
   "outputs": [
    {
     "name": "stdout",
     "output_type": "stream",
     "text": [
      "Original complaint text:\n",
      "I have already filed several complaints about AES/PHEAA. I was notified by a XXXX XXXX let @ XXXX, who pretended to be from your office, he said he was from CFPB. I found out this morning he is n't from your office, but is actually works at XXXX. \n",
      "\n",
      "This has wasted weeks of my time. They AES/PHEAA confirmed and admitted ( see attached transcript of XXXX, conversation at XXXX ( XXXX ) with XXXX that proves they verified the loans are not mine ) the student loans they had XXXX, and collected on, and reported negate credit reporting in my name are in fact, not mine. \n",
      "They conclued their investigation on XXXX admitting they made a mistake and have my name on soneone elses loans. I these XXXX loans total {$10000.00}, original amount. My XXXX loans I got was total {$3500.00}. We proved by providing AES/PHEAA, this with my original promissary notes I located recently, the XXXX of my college provided AES/PHEAA with their original shoeinf amounts of my XXXX loans which show different dates and amounts, the dates and amounts are not even close to matching these loans they have in my name, The original lender, XXXX XXXX Bank notifying AES/PHEAA, they never issued me a student loan, and original Loan Guarantor, XXXX, notifying AES/PHEAA, they never were guarantor of my loans. \n",
      "\n",
      "XXXX straight forward. But today, this person, XXXX XXXX, told me they know these loans are not mine, and they refuse to remove my name off these XXXX loan 's and correct their mistake, essentially forcing me to pay these loans off, bucause in XXXX they sold the loans to XXXX loans. \n",
      "\n",
      "This is absurd, first protruding to be this office, and then refusing to correct their mistake. \n",
      "\n",
      "Please for the love of XXXX will soneone from your office call me at XXXX, today. I am a XXXX vet and they are knowingly discriminating against me. \n",
      "Pretending to be you.\n",
      "\n",
      "\n",
      "\n",
      "Decoded review from Tokenizer:\n",
      " to be your the of xxxx will from your office call me at xxxx today i am a xxxx and they are against me  to remove my name off these xxxx loan 's and correct their mistake essentially me to pay these loans off in xxxx they sold the loans to xxxx loans  provided aes with their original amounts of my xxxx loans which show different dates and amounts the dates and amounts are not even close to these loans they have in my name the original lender xxxx xxxx bank notifying aes they never issued me a student loan and original loan xxxx notifying aes they never were of my loans \n"
     ]
    }
   ],
   "source": [
    "comment_idx_to_preview = 19\n",
    "print('Original complaint text:')\n",
    "print(complaints[comment_idx_to_preview])\n",
    "print('\\n\\n')\n",
    "\n",
    "# The reverse_index cell block above must be complete in order for this cell block to successively execute \n",
    "decoded_review = ' '.join([reverse_index.get(i) for i in sequences[comment_idx_to_preview]])\n",
    "print('Decoded review from Tokenizer:')\n",
    "print(decoded_review)"
   ]
  },
  {
   "cell_type": "markdown",
   "metadata": {},
   "source": [
    "## Convert the Products to Numerical Categories\n",
    "\n",
    "On to step two of our preprocessing: converting our descriptive categories into integers."
   ]
  },
  {
   "cell_type": "code",
   "execution_count": 12,
   "metadata": {},
   "outputs": [
    {
     "name": "stdout",
     "output_type": "stream",
     "text": [
      "Original class labels:\n",
      "['Bank account or service', 'Checking or savings account', 'Consumer Loan', 'Credit card', 'Credit reporting', 'Mortgage', 'Student loan']\n",
      "\n",
      "\n",
      "New product labels:\n",
      "[6 6 6 ... 4 4 4]\n",
      "\n",
      "\n",
      "One hot labels; 7 binary columns, one for each of the categories.\n",
      "[[0. 0. 0. ... 0. 0. 1.]\n",
      " [0. 0. 0. ... 0. 0. 1.]\n",
      " [0. 0. 0. ... 0. 0. 1.]\n",
      " ...\n",
      " [0. 0. 0. ... 1. 0. 0.]\n",
      " [0. 0. 0. ... 1. 0. 0.]\n",
      " [0. 0. 0. ... 1. 0. 0.]]\n",
      "\n",
      "\n",
      "One hot labels shape:\n",
      "(60000, 7)\n"
     ]
    }
   ],
   "source": [
    "product = df['Product']\n",
    "\n",
    "# Initialize\n",
    "le = preprocessing.LabelEncoder() \n",
    "le.fit(product)\n",
    "print('Original class labels:')\n",
    "print(list(le.classes_))\n",
    "print('\\n')\n",
    "product_cat = le.transform(product)  \n",
    "\n",
    "# If you wish to retrieve the original descriptive labels post production\n",
    "# list(le.inverse_transform([0, 1, 3, 3, 0, 6, 4])) \n",
    "\n",
    "print('New product labels:')\n",
    "print(product_cat)\n",
    "print('\\n')\n",
    "\n",
    "# Each row will be all zeros except for the category for that observation \n",
    "print('One hot labels; 7 binary columns, one for each of the categories.') \n",
    "product_onehot = to_categorical(product_cat)\n",
    "print(product_onehot)\n",
    "print('\\n')\n",
    "\n",
    "print('One hot labels shape:')\n",
    "print(np.shape(product_onehot))"
   ]
  },
  {
   "cell_type": "markdown",
   "metadata": {},
   "source": [
    "## Train-test split\n",
    "\n",
    "Now for our final preprocessing step: the usual train-test split. "
   ]
  },
  {
   "cell_type": "code",
   "execution_count": 13,
   "metadata": {},
   "outputs": [
    {
     "name": "stdout",
     "output_type": "stream",
     "text": [
      "Test label shape: (1500, 7)\n",
      "Train label shape: (58500, 7)\n",
      "Test shape: (1500, 2000)\n",
      "Train shape: (58500, 2000)\n"
     ]
    }
   ],
   "source": [
    "random.seed(123)\n",
    "test_index = random.sample(range(1,10000), 1500)\n",
    "\n",
    "test = one_hot_results[test_index]\n",
    "train = np.delete(one_hot_results, test_index, 0)\n",
    "\n",
    "label_test = product_onehot[test_index]\n",
    "label_train = np.delete(product_onehot, test_index, 0)\n",
    "\n",
    "print('Test label shape:', np.shape(label_test))\n",
    "print('Train label shape:', np.shape(label_train))\n",
    "print('Test shape:', np.shape(test))\n",
    "print('Train shape:', np.shape(train))"
   ]
  },
  {
   "cell_type": "markdown",
   "metadata": {},
   "source": [
    "## Building the network\n",
    "\n",
    "Let's build a fully connected (Dense) layer network with relu activation in Keras. You can do this using: `Dense(16, activation='relu')`. \n",
    "\n",
    "In this example, use two hidden layers with 50 units in the first layer and 25 in the second, both with a `'relu'` activation function. Because we are dealing with a multiclass problem (classifying the complaints into 7 categories), we use a use a `'softmax'` classifier in order to output 7 class probabilities per case.  "
   ]
  },
  {
   "cell_type": "code",
   "execution_count": 14,
   "metadata": {},
   "outputs": [],
   "source": [
    "# Initialize a sequential model\n",
    "model = models.Sequential()\n",
    "\n",
    "# Two layers with relu activation\n",
    "model.add(layers.Dense(50, activation = 'relu'))\n",
    "model.add(layers.Dense(25, activation = 'relu'))\n",
    "\n",
    "\n",
    "# One layer with softmax activation \n",
    "model.add(layers.Dense(7, activation = 'softmax'))"
   ]
  },
  {
   "cell_type": "markdown",
   "metadata": {},
   "source": [
    "## Compiling the model\n",
    "\n",
    "Now, compile the model! This time, use `'categorical_crossentropy'` as the loss function and stochastic gradient descent, `'SGD'` as the optimizer. As in the previous lesson, include the accuracy as a metric."
   ]
  },
  {
   "cell_type": "code",
   "execution_count": 15,
   "metadata": {},
   "outputs": [],
   "source": [
    "# Compile the model\n",
    "model.compile(\n",
    "    optimizer='SGD',\n",
    "    loss = 'categorical_crossentropy',\n",
    "    metrics = ['acc']\n",
    ")"
   ]
  },
  {
   "cell_type": "markdown",
   "metadata": {},
   "source": [
    "## Training the model\n",
    "\n",
    "In the compiler, you'll be passing the optimizer (SGD = stochastic gradient descent), loss function, and metrics. Train the model for 120 epochs in mini-batches of 256 samples.\n",
    "\n",
    "_Note:_ ⏰ _Your code may take about one to two minutes to run._"
   ]
  },
  {
   "cell_type": "code",
   "execution_count": 16,
   "metadata": {},
   "outputs": [
    {
     "name": "stdout",
     "output_type": "stream",
     "text": [
      "Epoch 1/120\n",
      "229/229 [==============================] - 1s 4ms/step - loss: 1.8752 - acc: 0.2567\n",
      "Epoch 2/120\n",
      "229/229 [==============================] - 1s 4ms/step - loss: 1.5590 - acc: 0.4840\n",
      "Epoch 3/120\n",
      "229/229 [==============================] - 1s 4ms/step - loss: 1.1707 - acc: 0.6342\n",
      "Epoch 4/120\n",
      "229/229 [==============================] - 1s 5ms/step - loss: 0.9286 - acc: 0.6879\n",
      "Epoch 5/120\n",
      "229/229 [==============================] - 1s 4ms/step - loss: 0.8043 - acc: 0.7150\n",
      "Epoch 6/120\n",
      "229/229 [==============================] - 1s 5ms/step - loss: 0.7349 - acc: 0.7324\n",
      "Epoch 7/120\n",
      "229/229 [==============================] - 2s 9ms/step - loss: 0.6911 - acc: 0.7450\n",
      "Epoch 8/120\n",
      "229/229 [==============================] - 1s 5ms/step - loss: 0.6600 - acc: 0.7542\n",
      "Epoch 9/120\n",
      "229/229 [==============================] - 1s 4ms/step - loss: 0.6361 - acc: 0.7623\n",
      "Epoch 10/120\n",
      "229/229 [==============================] - 1s 4ms/step - loss: 0.6170 - acc: 0.7685\n",
      "Epoch 11/120\n",
      "229/229 [==============================] - 1s 4ms/step - loss: 0.6012 - acc: 0.7743\n",
      "Epoch 12/120\n",
      "229/229 [==============================] - 1s 4ms/step - loss: 0.5877 - acc: 0.7797\n",
      "Epoch 13/120\n",
      "229/229 [==============================] - 1s 4ms/step - loss: 0.5760 - acc: 0.7850\n",
      "Epoch 14/120\n",
      "229/229 [==============================] - 1s 4ms/step - loss: 0.5653 - acc: 0.7886\n",
      "Epoch 15/120\n",
      "229/229 [==============================] - 1s 4ms/step - loss: 0.5553 - acc: 0.7929\n",
      "Epoch 16/120\n",
      "229/229 [==============================] - 1s 4ms/step - loss: 0.5469 - acc: 0.7979\n",
      "Epoch 17/120\n",
      "229/229 [==============================] - 1s 4ms/step - loss: 0.5389 - acc: 0.8004\n",
      "Epoch 18/120\n",
      "229/229 [==============================] - 1s 4ms/step - loss: 0.5312 - acc: 0.8036\n",
      "Epoch 19/120\n",
      "229/229 [==============================] - 1s 4ms/step - loss: 0.5246 - acc: 0.8074\n",
      "Epoch 20/120\n",
      "229/229 [==============================] - 1s 5ms/step - loss: 0.5179 - acc: 0.8102\n",
      "Epoch 21/120\n",
      "229/229 [==============================] - 1s 4ms/step - loss: 0.5115 - acc: 0.8125\n",
      "Epoch 22/120\n",
      "229/229 [==============================] - 1s 4ms/step - loss: 0.5060 - acc: 0.8148\n",
      "Epoch 23/120\n",
      "229/229 [==============================] - 1s 4ms/step - loss: 0.5008 - acc: 0.8164\n",
      "Epoch 24/120\n",
      "229/229 [==============================] - 1s 4ms/step - loss: 0.4954 - acc: 0.8194\n",
      "Epoch 25/120\n",
      "229/229 [==============================] - 1s 4ms/step - loss: 0.4905 - acc: 0.8210\n",
      "Epoch 26/120\n",
      "229/229 [==============================] - 1s 5ms/step - loss: 0.4861 - acc: 0.8238\n",
      "Epoch 27/120\n",
      "229/229 [==============================] - 1s 5ms/step - loss: 0.4816 - acc: 0.8254\n",
      "Epoch 28/120\n",
      "229/229 [==============================] - 1s 4ms/step - loss: 0.4775 - acc: 0.8281\n",
      "Epoch 29/120\n",
      "229/229 [==============================] - 1s 4ms/step - loss: 0.4735 - acc: 0.8290\n",
      "Epoch 30/120\n",
      "229/229 [==============================] - 1s 4ms/step - loss: 0.4693 - acc: 0.8310\n",
      "Epoch 31/120\n",
      "229/229 [==============================] - 1s 4ms/step - loss: 0.4657 - acc: 0.8323\n",
      "Epoch 32/120\n",
      "229/229 [==============================] - 1s 4ms/step - loss: 0.4621 - acc: 0.8337\n",
      "Epoch 33/120\n",
      "229/229 [==============================] - 1s 4ms/step - loss: 0.4590 - acc: 0.8346\n",
      "Epoch 34/120\n",
      "229/229 [==============================] - 1s 4ms/step - loss: 0.4559 - acc: 0.8360\n",
      "Epoch 35/120\n",
      "229/229 [==============================] - 1s 4ms/step - loss: 0.4528 - acc: 0.8371\n",
      "Epoch 36/120\n",
      "229/229 [==============================] - 1s 5ms/step - loss: 0.4498 - acc: 0.8382\n",
      "Epoch 37/120\n",
      "229/229 [==============================] - 1s 5ms/step - loss: 0.4469 - acc: 0.8399\n",
      "Epoch 38/120\n",
      "229/229 [==============================] - 1s 5ms/step - loss: 0.4440 - acc: 0.8414\n",
      "Epoch 39/120\n",
      "229/229 [==============================] - 1s 4ms/step - loss: 0.4412 - acc: 0.8425\n",
      "Epoch 40/120\n",
      "229/229 [==============================] - 1s 4ms/step - loss: 0.4387 - acc: 0.8431\n",
      "Epoch 41/120\n",
      "229/229 [==============================] - 1s 4ms/step - loss: 0.4362 - acc: 0.8444\n",
      "Epoch 42/120\n",
      "229/229 [==============================] - 1s 4ms/step - loss: 0.4337 - acc: 0.8452\n",
      "Epoch 43/120\n",
      "229/229 [==============================] - 1s 4ms/step - loss: 0.4315 - acc: 0.8455\n",
      "Epoch 44/120\n",
      "229/229 [==============================] - 1s 4ms/step - loss: 0.4287 - acc: 0.8467\n",
      "Epoch 45/120\n",
      "229/229 [==============================] - 1s 5ms/step - loss: 0.4267 - acc: 0.8481\n",
      "Epoch 46/120\n",
      "229/229 [==============================] - 1s 5ms/step - loss: 0.4242 - acc: 0.8487\n",
      "Epoch 47/120\n",
      "229/229 [==============================] - 1s 5ms/step - loss: 0.4224 - acc: 0.8498\n",
      "Epoch 48/120\n",
      "229/229 [==============================] - 1s 5ms/step - loss: 0.4202 - acc: 0.8499\n",
      "Epoch 49/120\n",
      "229/229 [==============================] - 1s 5ms/step - loss: 0.4184 - acc: 0.8508\n",
      "Epoch 50/120\n",
      "229/229 [==============================] - 1s 4ms/step - loss: 0.4164 - acc: 0.8518\n",
      "Epoch 51/120\n",
      "229/229 [==============================] - 1s 5ms/step - loss: 0.4144 - acc: 0.8531\n",
      "Epoch 52/120\n",
      "229/229 [==============================] - 1s 4ms/step - loss: 0.4124 - acc: 0.8531A: 0s - loss: 0.4102 - acc: 0.8\n",
      "Epoch 53/120\n",
      "229/229 [==============================] - 1s 5ms/step - loss: 0.4108 - acc: 0.8543\n",
      "Epoch 54/120\n",
      "229/229 [==============================] - 1s 4ms/step - loss: 0.4090 - acc: 0.8545\n",
      "Epoch 55/120\n",
      "229/229 [==============================] - 1s 4ms/step - loss: 0.4072 - acc: 0.8554\n",
      "Epoch 56/120\n",
      "229/229 [==============================] - 1s 4ms/step - loss: 0.4055 - acc: 0.8551\n",
      "Epoch 57/120\n",
      "229/229 [==============================] - 1s 4ms/step - loss: 0.4038 - acc: 0.8566\n",
      "Epoch 58/120\n",
      "229/229 [==============================] - 1s 4ms/step - loss: 0.4024 - acc: 0.8563\n",
      "Epoch 59/120\n",
      "229/229 [==============================] - 1s 4ms/step - loss: 0.4007 - acc: 0.8577\n",
      "Epoch 60/120\n",
      "229/229 [==============================] - 1s 4ms/step - loss: 0.3990 - acc: 0.8587\n",
      "Epoch 61/120\n",
      "229/229 [==============================] - 1s 4ms/step - loss: 0.3975 - acc: 0.8583\n",
      "Epoch 62/120\n",
      "229/229 [==============================] - 1s 4ms/step - loss: 0.3962 - acc: 0.8590\n",
      "Epoch 63/120\n",
      "229/229 [==============================] - 1s 4ms/step - loss: 0.3945 - acc: 0.8597\n",
      "Epoch 64/120\n",
      "229/229 [==============================] - 1s 6ms/step - loss: 0.3931 - acc: 0.8602\n",
      "Epoch 65/120\n",
      "229/229 [==============================] - 1s 5ms/step - loss: 0.3916 - acc: 0.8604\n",
      "Epoch 66/120\n",
      "229/229 [==============================] - 1s 4ms/step - loss: 0.3902 - acc: 0.8608\n",
      "Epoch 67/120\n",
      "229/229 [==============================] - 1s 4ms/step - loss: 0.3890 - acc: 0.8610\n",
      "Epoch 68/120\n",
      "229/229 [==============================] - 1s 5ms/step - loss: 0.3876 - acc: 0.8632\n",
      "Epoch 69/120\n",
      "229/229 [==============================] - 1s 4ms/step - loss: 0.3861 - acc: 0.8623\n",
      "Epoch 70/120\n",
      "229/229 [==============================] - 1s 5ms/step - loss: 0.3850 - acc: 0.8629\n",
      "Epoch 71/120\n",
      "229/229 [==============================] - 1s 5ms/step - loss: 0.3836 - acc: 0.8638\n",
      "Epoch 72/120\n",
      "229/229 [==============================] - 1s 6ms/step - loss: 0.3826 - acc: 0.8639\n",
      "Epoch 73/120\n",
      "229/229 [==============================] - 1s 5ms/step - loss: 0.3812 - acc: 0.8639\n",
      "Epoch 74/120\n",
      "229/229 [==============================] - 1s 5ms/step - loss: 0.3798 - acc: 0.8642\n",
      "Epoch 75/120\n",
      "229/229 [==============================] - 1s 6ms/step - loss: 0.3787 - acc: 0.8652\n",
      "Epoch 76/120\n",
      "229/229 [==============================] - 1s 6ms/step - loss: 0.3777 - acc: 0.8649A: 1s - loss: 0.3\n",
      "Epoch 77/120\n",
      "229/229 [==============================] - 1s 5ms/step - loss: 0.3764 - acc: 0.8660\n",
      "Epoch 78/120\n",
      "229/229 [==============================] - 1s 5ms/step - loss: 0.3752 - acc: 0.8671\n",
      "Epoch 79/120\n",
      "229/229 [==============================] - 1s 4ms/step - loss: 0.3741 - acc: 0.8662\n",
      "Epoch 80/120\n",
      "229/229 [==============================] - 1s 5ms/step - loss: 0.3731 - acc: 0.8672\n",
      "Epoch 81/120\n",
      "229/229 [==============================] - 1s 6ms/step - loss: 0.3717 - acc: 0.8675\n",
      "Epoch 82/120\n",
      "229/229 [==============================] - 1s 6ms/step - loss: 0.3708 - acc: 0.8678\n",
      "Epoch 83/120\n",
      "229/229 [==============================] - 1s 6ms/step - loss: 0.3696 - acc: 0.8679\n",
      "Epoch 84/120\n",
      "229/229 [==============================] - 1s 6ms/step - loss: 0.3688 - acc: 0.8690\n",
      "Epoch 85/120\n",
      "229/229 [==============================] - 1s 5ms/step - loss: 0.3678 - acc: 0.8686\n",
      "Epoch 86/120\n",
      "229/229 [==============================] - 1s 5ms/step - loss: 0.3663 - acc: 0.8695\n",
      "Epoch 87/120\n",
      "229/229 [==============================] - 1s 5ms/step - loss: 0.3655 - acc: 0.8699\n",
      "Epoch 88/120\n",
      "229/229 [==============================] - 1s 5ms/step - loss: 0.3649 - acc: 0.8697\n",
      "Epoch 89/120\n",
      "229/229 [==============================] - 1s 6ms/step - loss: 0.3634 - acc: 0.8708\n",
      "Epoch 90/120\n",
      "229/229 [==============================] - 1s 5ms/step - loss: 0.3625 - acc: 0.8707\n",
      "Epoch 91/120\n",
      "229/229 [==============================] - 1s 6ms/step - loss: 0.3617 - acc: 0.8714\n",
      "Epoch 92/120\n",
      "229/229 [==============================] - 1s 5ms/step - loss: 0.3605 - acc: 0.8716\n",
      "Epoch 93/120\n",
      "229/229 [==============================] - 1s 6ms/step - loss: 0.3598 - acc: 0.8713\n",
      "Epoch 94/120\n",
      "229/229 [==============================] - 1s 5ms/step - loss: 0.3588 - acc: 0.8724\n",
      "Epoch 95/120\n",
      "229/229 [==============================] - 1s 5ms/step - loss: 0.3576 - acc: 0.8726\n",
      "Epoch 96/120\n",
      "229/229 [==============================] - 1s 5ms/step - loss: 0.3566 - acc: 0.8723\n",
      "Epoch 97/120\n",
      "229/229 [==============================] - 1s 6ms/step - loss: 0.3559 - acc: 0.8727\n",
      "Epoch 98/120\n",
      "229/229 [==============================] - 1s 5ms/step - loss: 0.3550 - acc: 0.8743\n",
      "Epoch 99/120\n",
      "229/229 [==============================] - 1s 5ms/step - loss: 0.3540 - acc: 0.8740\n",
      "Epoch 100/120\n",
      "229/229 [==============================] - 1s 4ms/step - loss: 0.3528 - acc: 0.8745\n",
      "Epoch 101/120\n",
      "229/229 [==============================] - 1s 4ms/step - loss: 0.3519 - acc: 0.8747\n",
      "Epoch 102/120\n",
      "229/229 [==============================] - 1s 6ms/step - loss: 0.3514 - acc: 0.8744\n",
      "Epoch 103/120\n",
      "229/229 [==============================] - 1s 6ms/step - loss: 0.3507 - acc: 0.8744\n",
      "Epoch 104/120\n",
      "229/229 [==============================] - 1s 5ms/step - loss: 0.3495 - acc: 0.8753\n",
      "Epoch 105/120\n",
      "229/229 [==============================] - 1s 5ms/step - loss: 0.3483 - acc: 0.8756\n",
      "Epoch 106/120\n",
      "229/229 [==============================] - 1s 4ms/step - loss: 0.3478 - acc: 0.8760\n",
      "Epoch 107/120\n",
      "229/229 [==============================] - 1s 4ms/step - loss: 0.3468 - acc: 0.8765\n",
      "Epoch 108/120\n",
      "229/229 [==============================] - 1s 5ms/step - loss: 0.3463 - acc: 0.8756\n",
      "Epoch 109/120\n",
      "229/229 [==============================] - 1s 4ms/step - loss: 0.3454 - acc: 0.8768\n",
      "Epoch 110/120\n",
      "229/229 [==============================] - 1s 5ms/step - loss: 0.3443 - acc: 0.8777\n",
      "Epoch 111/120\n",
      "229/229 [==============================] - 1s 4ms/step - loss: 0.3435 - acc: 0.8770\n",
      "Epoch 112/120\n",
      "229/229 [==============================] - 1s 5ms/step - loss: 0.3425 - acc: 0.8787\n",
      "Epoch 113/120\n",
      "229/229 [==============================] - 1s 5ms/step - loss: 0.3420 - acc: 0.8782\n",
      "Epoch 114/120\n",
      "229/229 [==============================] - 1s 5ms/step - loss: 0.3411 - acc: 0.8785\n",
      "Epoch 115/120\n",
      "229/229 [==============================] - 1s 4ms/step - loss: 0.3397 - acc: 0.8789\n",
      "Epoch 116/120\n",
      "229/229 [==============================] - 1s 4ms/step - loss: 0.3389 - acc: 0.8796\n",
      "Epoch 117/120\n",
      "229/229 [==============================] - 1s 5ms/step - loss: 0.3386 - acc: 0.8796\n",
      "Epoch 118/120\n",
      "229/229 [==============================] - 1s 4ms/step - loss: 0.3376 - acc: 0.8795\n",
      "Epoch 119/120\n",
      "229/229 [==============================] - 1s 4ms/step - loss: 0.3364 - acc: 0.8807\n",
      "Epoch 120/120\n",
      "229/229 [==============================] - 1s 4ms/step - loss: 0.3360 - acc: 0.8802\n"
     ]
    }
   ],
   "source": [
    "# Train the model \n",
    "history = model.fit(\n",
    "    train,\n",
    "    label_train,\n",
    "    epochs = 120,\n",
    "    batch_size=256,\n",
    ")"
   ]
  },
  {
   "cell_type": "markdown",
   "metadata": {},
   "source": [
    "Recall that the dictionary `history` has two entries: the loss and the accuracy achieved using the training set."
   ]
  },
  {
   "cell_type": "code",
   "execution_count": 17,
   "metadata": {},
   "outputs": [
    {
     "data": {
      "text/plain": [
       "dict_keys(['loss', 'acc'])"
      ]
     },
     "execution_count": 17,
     "metadata": {},
     "output_type": "execute_result"
    }
   ],
   "source": [
    "history_dict = history.history\n",
    "history_dict.keys()"
   ]
  },
  {
   "cell_type": "markdown",
   "metadata": {},
   "source": [
    "## Plot the results\n",
    "\n",
    "As you might expect, we'll use our `matplotlib` for graphing. Use the data stored in the `history_dict` above to plot the loss vs epochs and the accuracy vs epochs. "
   ]
  },
  {
   "cell_type": "code",
   "execution_count": 20,
   "metadata": {},
   "outputs": [
    {
     "data": {
      "image/png": "[encoded data removed]",
      "text/plain": [
       "<Figure size 432x288 with 1 Axes>"
      ]
     },
     "metadata": {
      "needs_background": "light"
     },
     "output_type": "display_data"
    }
   ],
   "source": [
    "# Plot the loss vs the number of epoch\n",
    "\n",
    "loss_values = history_dict['loss']\n",
    "epochs = range(1, len(loss_values) + 1)\n",
    "plt.plot(epochs, loss_values, 'g', label='Training loss')\n",
    "\n",
    "plt.title('Training loss')\n",
    "plt.xlabel('Epochs')\n",
    "plt.ylabel('Loss')\n",
    "plt.legend()\n",
    "plt.show()"
   ]
  },
  {
   "cell_type": "code",
   "execution_count": 21,
   "metadata": {},
   "outputs": [
    {
     "data": {
      "image/png": "[encoded data removed]",
      "text/plain": [
       "<Figure size 432x288 with 1 Axes>"
      ]
     },
     "metadata": {
      "needs_background": "light"
     },
     "output_type": "display_data"
    }
   ],
   "source": [
    "# Plot the training accuracy vs the number of epochs\n",
    "\n",
    "acc = history_dict['acc']\n",
    "plt.plot(epochs, acc, 'r', label='Training acc')\n",
    "plt.title('Training accuracy')\n",
    "plt.xlabel('Epochs')\n",
    "plt.ylabel('Accuracy')\n",
    "plt.legend()\n",
    "plt.show()"
   ]
  },
  {
   "cell_type": "markdown",
   "metadata": {},
   "source": [
    "It seems like we could just keep on going and accuracy would go up!"
   ]
  },
  {
   "cell_type": "markdown",
   "metadata": {},
   "source": [
    "## Make predictions\n",
    "\n",
    "Finally, it's time to make predictions. Use the relevant method discussed in the previous lesson to output (probability) predictions for the test set."
   ]
  },
  {
   "cell_type": "code",
   "execution_count": 22,
   "metadata": {},
   "outputs": [],
   "source": [
    "# Output (probability) predictions for the test set \n",
    "y_hat_test = model.predict(test)"
   ]
  },
  {
   "cell_type": "markdown",
   "metadata": {},
   "source": [
    "## Evaluate Performance\n",
    "\n",
    "Finally, print the loss and accuracy for both the train and test sets of the final trained model."
   ]
  },
  {
   "cell_type": "code",
   "execution_count": 23,
   "metadata": {},
   "outputs": [
    {
     "name": "stdout",
     "output_type": "stream",
     "text": [
      "1829/1829 [==============================] - 2s 1ms/step - loss: 0.3305 - acc: 0.8833\n"
     ]
    },
    {
     "data": {
      "text/plain": [
       "[0.33050113916397095, 0.88326495885849]"
      ]
     },
     "execution_count": 23,
     "metadata": {},
     "output_type": "execute_result"
    }
   ],
   "source": [
    "# Print the loss and accuracy for the training set \n",
    "results_train = model.evaluate(train, label_train)\n",
    "results_train"
   ]
  },
  {
   "cell_type": "code",
   "execution_count": 24,
   "metadata": {},
   "outputs": [
    {
     "name": "stdout",
     "output_type": "stream",
     "text": [
      "47/47 [==============================] - 0s 2ms/step - loss: 0.2498 - acc: 0.9320\n"
     ]
    },
    {
     "data": {
      "text/plain": [
       "[0.24982813000679016, 0.9319999814033508]"
      ]
     },
     "execution_count": 24,
     "metadata": {},
     "output_type": "execute_result"
    }
   ],
   "source": [
    "# Print the loss and accuracy for the test set \n",
    "results_test = model.evaluate(test, label_test)\n",
    "results_test"
   ]
  },
  {
   "cell_type": "markdown",
   "metadata": {},
   "source": [
    "We can see that the training set results are really good, and the test set results seem to be even better. In general, this type of result will be rare, as train set results are usually at least a bit better than test set results.\n",
    "\n",
    "## Summary \n",
    "\n",
    "Congratulations! In this lab, you built a neural network thanks to the tools provided by Keras! In upcoming lessons and labs we'll continue to investigate further ideas regarding how to tune and refine these models for increased accuracy and performance."
   ]
  }
 ],
 "metadata": {
  "kernelspec": {
   "display_name": "learn-env",
   "language": "python",
   "name": "python3"
  },
  "language_info": {
   "codemirror_mode": {
    "name": "ipython",
    "version": 3
   },
   "file_extension": ".py",
   "mimetype": "text/x-python",
   "name": "python",
   "nbconvert_exporter": "python",
   "pygments_lexer": "ipython3",
   "version": "3.8.5"
  },
  "toc": {
   "base_numbering": 1,
   "nav_menu": {},
   "number_sections": true,
   "sideBar": true,
   "skip_h1_title": false,
   "title_cell": "Table of Contents",
   "title_sidebar": "Contents",
   "toc_cell": false,
   "toc_position": {},
   "toc_section_display": true,
   "toc_window_display": false
  }
 },
 "nbformat": 4,
 "nbformat_minor": 2
}
